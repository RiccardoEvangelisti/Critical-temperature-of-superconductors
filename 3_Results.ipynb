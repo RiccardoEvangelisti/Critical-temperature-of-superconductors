{
 "cells": [
  {
   "cell_type": "markdown",
   "metadata": {},
   "source": [
    "# Results"
   ]
  },
  {
   "cell_type": "markdown",
   "metadata": {},
   "source": [
    "---\n",
    "---\n",
    "## Best Model\n",
    "\n",
    "|   |   |\n",
    "|---|---|\n",
    "|Best Model| **XGBoost**|\n",
    "|Preprocessing| **None**|\n",
    "| R^2| **0.931** |\n",
    "| MSE | **78.09** |\n",
    "| Model Parameters | n_estimators: 450 <br> learning_rate: 0.15 <br> max_depth: 6 <br> min_child_weight: 3 <br> gamma: 0.5 <br> subsample: 1.0 <br> colsample_bytree: 1.0 <br> reg_lambda: 1.0 <br> reg_alpha: 0.1 <br> |"
   ]
  },
  {
   "cell_type": "markdown",
   "metadata": {},
   "source": [
    "---\n",
    "## Linear Regression\n",
    "\n",
    "|   | Best Configuration  |\n",
    "|---|---|\n",
    "|Preprocessing| **MinMaxScaling**|\n",
    "| R^2| **0.754** |\n",
    "| MSE | **280.11** |"
   ]
  },
  {
   "cell_type": "markdown",
   "metadata": {},
   "source": [
    "#### Relevant Observations:\n",
    "- Removing features, via PCA or the highly correlated ones, degrades the performaces of the model\n",
    "\n",
    "| R^2  | Description  |\n",
    "|---|---|\n",
    "| 0.75 | StandardScaling, no preprocessing |\n",
    "| 0.73 | Only Properties dataset |\n",
    "| 0.70 | Removing  highly correlated features with ***threshold: >0.85*** |\n",
    "| 0.62 | PCA with ***threshold: 0.95*** |\n",
    "| 0.59 | Only Formula dataset |\n",
    "| 0.59 | PCA with ***threshold: 0.85*** |\n"
   ]
  },
  {
   "cell_type": "markdown",
   "metadata": {},
   "source": [
    "---\n",
    "---\n",
    "## Random Forest\n",
    "\n",
    "|   |  Best Configuration |\n",
    "|---|---|\n",
    "|Preprocessing| **Removing the highly correlated features + Normalization Max + MinMaxScaling**|\n",
    "| R^2| **0.928** |\n",
    "| MSE | **82.13** |\n",
    "| Parameters: | max_samples: 0.66 <br> n_estimators: 200 <br> max_depth: 25 <br> max_features: 0.6 <br> ccp_alpha: 0 <br> **corr_threshold: 0.99**|"
   ]
  },
  {
   "cell_type": "markdown",
   "metadata": {},
   "source": [
    "#### Relevant Observations:\n",
    "\n",
    "- The best configuration, with **corr_threshold: 0.99**, has only 5 features removed, remaining a total of 162 features. In fact, almost identical results are obtained without removing those features.\n",
    "- Looking at the ***max_features*** parameter, each one of the best configurations has a different value\n",
    "- Looking at the ***max_depth*** parameter, the model generally performs better with values between 25 and 35\n",
    "\n",
    "| R^2  | Description  |\n",
    "|---|---|\n",
    "| 0.92 | No preprocessing and with ***max_depth: >15*** <br> StandardScaling <br> Only Properties <br> Only Formula with ***max_samples: 0.66*** <br> Removing highly correlated features with ***threshold: >0.85*** |\n",
    "| 0.90 | PCA and with ***ccp_alpha: 0.1*** |\n",
    "| 0.85 | PCA and with ***ccp_alpha: 0***  |\n",
    "| 0.82 | No preprocessing and with ***max_depth: 5*** |"
   ]
  },
  {
   "cell_type": "markdown",
   "metadata": {},
   "source": [
    "---\n",
    "---\n",
    "## XGBoost\n",
    "\n",
    "|   |  Best Configuration |\n",
    "|---|---|\n",
    "|Preprocessing| **Nothing**|\n",
    "| R^2| **0.931** |\n",
    "| MSE | **78.09** |\n",
    "| Parameters: | n_estimators: 450 <br> learning_rate: 0.15 <br> max_depth: 6 <br> min_child_weight: 3 <br> gamma: 0.5 <br> subsample: 1.0 <br> colsample_bytree: 1.0 <br> reg_lambda: 1.0 <br> reg_alpha: 0.1 <br> |"
   ]
  },
  {
   "cell_type": "markdown",
   "metadata": {},
   "source": [
    "#### Relevant Observations:\n",
    "- The model alone has the best outcome, but it was needed a fine parameter tuning. The same results can be obtained with the 'classical' preprocessing.\n",
    "- Each preprocess technique vary a lot the result, mainly depending on the XGBoost parameters\n",
    "- In general, it appears that more ***subsampling*** and more ***column sampling*** gives better results\n",
    "- The default ***max_depth: 6*** is the best option\n",
    "- Varying the ***learning_rate*** between 0.15 and 0.20 gives the best results\n",
    "\n",
    "\n",
    "| R^2  | Description  |\n",
    "|---|---|\n",
    "| 0.93 | MinMaxScaling <br> StandardScaling |\n",
    "| 0.92 | Only Formula <br> Only Properties <br> Removing high correlated features|\n",
    "| 0.91 | StandardScaling + PCA |"
   ]
  },
  {
   "cell_type": "markdown",
   "metadata": {},
   "source": [
    "---\n",
    "---\n",
    "## KNN\n",
    "\n",
    "|   |  Best Configuration |\n",
    "|---|---|\n",
    "|Preprocessing| **Removing the highly correlated features + Normalization Max + MinMaxScaling**|\n",
    "| R^2| **0.920** |\n",
    "| MSE | **91.17** |\n",
    "| Parameters: | n_neighbors: 5 <br> weights: distance <br> metric: cityblock <br> corr_threshold: 0.95 |"
   ]
  },
  {
   "cell_type": "markdown",
   "metadata": {},
   "source": [
    "#### Relevant Observations:\n",
    "\n",
    "- Each preprocess technique vary a lot the result, mainly depending on the KNN parameters\n",
    "- The best configuration, with **corr_threshold: 0.95**, has only 5 features removed, remaining a total of 162 features. In fact, almost identical results are obtained without removing those features.\n",
    "- The best ***n_neighbors*** is around 6\n",
    "- The cosine and cityblocks are the best ***metrics***\n",
    "- The distance ***weight*** is farmost the best option\n",
    "\n",
    "| R^2  | Description  |\n",
    "|---|---|\n",
    "| 0.92 | MinMaxScaling <br> StandardScaling <br> Only Formula <br> Removing high correlated features|\n",
    "| 0.91 | StandardScaling + PCA |\n",
    "| 0.90 | Only Properties <br> No preprocessing|"
   ]
  },
  {
   "cell_type": "markdown",
   "metadata": {},
   "source": [
    "---\n",
    "---\n",
    "## SVR\n",
    "\n",
    "|   |  Best Configuration |\n",
    "|---|---|\n",
    "|Preprocessing| **Removing the highly correlated features + StandardScaling**|\n",
    "| R^2| **0.785** |\n",
    "| MSE | **244.465** |\n",
    "| Parameters: | kernel: rbf <br> epsilon: 1 <br> tol: 0.1 <br> C: 1 <br> max_iter: 100000 <br> corr_threshold: 0.99 |"
   ]
  },
  {
   "cell_type": "markdown",
   "metadata": {},
   "source": [
    "#### Relevant Observations:\n",
    "\n",
    "- Plain SVR with the wrong parameters can result in R2=-22000 or worse\n",
    "- Each preprocess technique vary a lot the result, mainly depending on the SVR parameters\n",
    "- The best configuration, with **corr_threshold: 0.99**, has only 5 features removed, remaining a total of 162 features. In fact, almost identical results are obtained without removing those features.\n",
    "- The real gamechanger is the StandardScaling\n",
    "- The best ***n_neighbors*** is around 6\n",
    "- The cosine and cityblocks are the best ***metrics***\n",
    "- The distance ***weight*** is farmost the best option\n",
    "\n",
    "| R^2  | Description  |\n",
    "|---|---|\n",
    "| 0.78 | StandardScaling <br> StandardScaling + PCA |\n",
    "| 0.76 | MinMaxScaling |\n",
    "| 0.71 | Only Formula |\n",
    "| 0.68 | Removing high correlated features + MinMaxScaler |\n",
    "| 0.45 | Only Properties |\n",
    "| < 0.45 | No preprocessing |"
   ]
  },
  {
   "cell_type": "markdown",
   "metadata": {},
   "source": [
    "---\n",
    "---\n",
    "# Features Importance\n"
   ]
  }
 ],
 "metadata": {
  "language_info": {
   "name": "python"
  }
 },
 "nbformat": 4,
 "nbformat_minor": 2
}
